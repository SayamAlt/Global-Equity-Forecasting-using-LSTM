{
 "cells": [
  {
   "cell_type": "code",
   "execution_count": 1,
   "id": "be2afcb1",
   "metadata": {
    "execution": {
     "iopub.execute_input": "2024-12-16T03:13:00.399203Z",
     "iopub.status.busy": "2024-12-16T03:13:00.398824Z",
     "iopub.status.idle": "2024-12-16T03:13:11.727683Z",
     "shell.execute_reply": "2024-12-16T03:13:11.726412Z"
    },
    "papermill": {
     "duration": 11.344808,
     "end_time": "2024-12-16T03:13:11.730173",
     "exception": false,
     "start_time": "2024-12-16T03:13:00.385365",
     "status": "completed"
    },
    "tags": []
   },
   "outputs": [
    {
     "name": "stdout",
     "output_type": "stream",
     "text": [
      "Requirement already satisfied: torchinfo in /opt/conda/lib/python3.10/site-packages (1.8.0)\r\n"
     ]
    }
   ],
   "source": [
    "!pip install torchinfo"
   ]
  },
  {
   "cell_type": "markdown",
   "id": "05c0bcef",
   "metadata": {
    "papermill": {
     "duration": 0.011185,
     "end_time": "2024-12-16T03:13:11.753420",
     "exception": false,
     "start_time": "2024-12-16T03:13:11.742235",
     "status": "completed"
    },
    "tags": []
   },
   "source": [
    "## Importing the relevant libraries"
   ]
  },
  {
   "cell_type": "code",
   "execution_count": 2,
   "id": "248b3d94",
   "metadata": {
    "execution": {
     "iopub.execute_input": "2024-12-16T03:13:11.777428Z",
     "iopub.status.busy": "2024-12-16T03:13:11.777011Z",
     "iopub.status.idle": "2024-12-16T03:13:17.101815Z",
     "shell.execute_reply": "2024-12-16T03:13:17.100824Z"
    },
    "papermill": {
     "duration": 5.339208,
     "end_time": "2024-12-16T03:13:17.104218",
     "exception": false,
     "start_time": "2024-12-16T03:13:11.765010",
     "status": "completed"
    },
    "tags": []
   },
   "outputs": [],
   "source": [
    "import torch, warnings, time\n",
    "warnings.filterwarnings('ignore')\n",
    "import torch.nn as nn\n",
    "import torch.optim as optim\n",
    "import numpy as np\n",
    "import pandas as pd\n",
    "import matplotlib.pyplot as plt\n",
    "from torch.utils.data import DataLoader, Dataset\n",
    "from sklearn.model_selection import train_test_split\n",
    "from sklearn.preprocessing import MinMaxScaler\n",
    "from sklearn.metrics import mean_absolute_error, mean_absolute_percentage_error, mean_squared_error, mean_squared_log_error\n",
    "from torchinfo import summary\n",
    "from torch.nn.utils import clip_grad_norm_"
   ]
  },
  {
   "cell_type": "markdown",
   "id": "f808e569",
   "metadata": {
    "papermill": {
     "duration": 0.011022,
     "end_time": "2024-12-16T03:13:17.126755",
     "exception": false,
     "start_time": "2024-12-16T03:13:17.115733",
     "status": "completed"
    },
    "tags": []
   },
   "source": [
    "## Loading the Global Equity dataset"
   ]
  },
  {
   "cell_type": "code",
   "execution_count": 3,
   "id": "625fb095",
   "metadata": {
    "execution": {
     "iopub.execute_input": "2024-12-16T03:13:17.149194Z",
     "iopub.status.busy": "2024-12-16T03:13:17.148682Z",
     "iopub.status.idle": "2024-12-16T03:13:17.190269Z",
     "shell.execute_reply": "2024-12-16T03:13:17.189298Z"
    },
    "papermill": {
     "duration": 0.055227,
     "end_time": "2024-12-16T03:13:17.192421",
     "exception": false,
     "start_time": "2024-12-16T03:13:17.137194",
     "status": "completed"
    },
    "tags": []
   },
   "outputs": [
    {
     "data": {
      "text/html": [
       "<div>\n",
       "<style scoped>\n",
       "    .dataframe tbody tr th:only-of-type {\n",
       "        vertical-align: middle;\n",
       "    }\n",
       "\n",
       "    .dataframe tbody tr th {\n",
       "        vertical-align: top;\n",
       "    }\n",
       "\n",
       "    .dataframe thead th {\n",
       "        text-align: right;\n",
       "    }\n",
       "</style>\n",
       "<table border=\"1\" class=\"dataframe\">\n",
       "  <thead>\n",
       "    <tr style=\"text-align: right;\">\n",
       "      <th></th>\n",
       "      <th>close</th>\n",
       "    </tr>\n",
       "  </thead>\n",
       "  <tbody>\n",
       "    <tr>\n",
       "      <th>1999-11-12</th>\n",
       "      <td>89.19</td>\n",
       "    </tr>\n",
       "    <tr>\n",
       "      <th>1999-11-19</th>\n",
       "      <td>86.00</td>\n",
       "    </tr>\n",
       "    <tr>\n",
       "      <th>1999-11-26</th>\n",
       "      <td>91.12</td>\n",
       "    </tr>\n",
       "    <tr>\n",
       "      <th>1999-12-03</th>\n",
       "      <td>96.12</td>\n",
       "    </tr>\n",
       "    <tr>\n",
       "      <th>1999-12-10</th>\n",
       "      <td>93.87</td>\n",
       "    </tr>\n",
       "  </tbody>\n",
       "</table>\n",
       "</div>"
      ],
      "text/plain": [
       "            close\n",
       "1999-11-12  89.19\n",
       "1999-11-19  86.00\n",
       "1999-11-26  91.12\n",
       "1999-12-03  96.12\n",
       "1999-12-10  93.87"
      ]
     },
     "execution_count": 3,
     "metadata": {},
     "output_type": "execute_result"
    }
   ],
   "source": [
    "df = pd.read_csv('/kaggle/input/global-equity-dataset/Global Equity.csv',index_col='Unnamed: 0',usecols=['Unnamed: 0','close'])\n",
    "df.head()"
   ]
  },
  {
   "cell_type": "markdown",
   "id": "8cf733bb",
   "metadata": {
    "papermill": {
     "duration": 0.009932,
     "end_time": "2024-12-16T03:13:17.212719",
     "exception": false,
     "start_time": "2024-12-16T03:13:17.202787",
     "status": "completed"
    },
    "tags": []
   },
   "source": [
    "## Data Exploration"
   ]
  },
  {
   "cell_type": "code",
   "execution_count": 4,
   "id": "eac381b5",
   "metadata": {
    "execution": {
     "iopub.execute_input": "2024-12-16T03:13:17.234548Z",
     "iopub.status.busy": "2024-12-16T03:13:17.234154Z",
     "iopub.status.idle": "2024-12-16T03:13:17.240603Z",
     "shell.execute_reply": "2024-12-16T03:13:17.239608Z"
    },
    "papermill": {
     "duration": 0.019595,
     "end_time": "2024-12-16T03:13:17.242455",
     "exception": false,
     "start_time": "2024-12-16T03:13:17.222860",
     "status": "completed"
    },
    "tags": []
   },
   "outputs": [
    {
     "data": {
      "text/plain": [
       "(1108, 1)"
      ]
     },
     "execution_count": 4,
     "metadata": {},
     "output_type": "execute_result"
    }
   ],
   "source": [
    "df.shape"
   ]
  },
  {
   "cell_type": "code",
   "execution_count": 5,
   "id": "6bdb011d",
   "metadata": {
    "execution": {
     "iopub.execute_input": "2024-12-16T03:13:17.265320Z",
     "iopub.status.busy": "2024-12-16T03:13:17.264470Z",
     "iopub.status.idle": "2024-12-16T03:13:17.286897Z",
     "shell.execute_reply": "2024-12-16T03:13:17.285837Z"
    },
    "papermill": {
     "duration": 0.036272,
     "end_time": "2024-12-16T03:13:17.289221",
     "exception": false,
     "start_time": "2024-12-16T03:13:17.252949",
     "status": "completed"
    },
    "tags": []
   },
   "outputs": [
    {
     "name": "stdout",
     "output_type": "stream",
     "text": [
      "<class 'pandas.core.frame.DataFrame'>\n",
      "Index: 1108 entries, 1999-11-12 to 2021-01-29\n",
      "Data columns (total 1 columns):\n",
      " #   Column  Non-Null Count  Dtype  \n",
      "---  ------  --------------  -----  \n",
      " 0   close   1108 non-null   float64\n",
      "dtypes: float64(1)\n",
      "memory usage: 17.3+ KB\n"
     ]
    }
   ],
   "source": [
    "df.info()"
   ]
  },
  {
   "cell_type": "code",
   "execution_count": 6,
   "id": "8445640e",
   "metadata": {
    "execution": {
     "iopub.execute_input": "2024-12-16T03:13:17.312042Z",
     "iopub.status.busy": "2024-12-16T03:13:17.311692Z",
     "iopub.status.idle": "2024-12-16T03:13:17.316227Z",
     "shell.execute_reply": "2024-12-16T03:13:17.315228Z"
    },
    "papermill": {
     "duration": 0.018169,
     "end_time": "2024-12-16T03:13:17.318202",
     "exception": false,
     "start_time": "2024-12-16T03:13:17.300033",
     "status": "completed"
    },
    "tags": []
   },
   "outputs": [],
   "source": [
    "df.index.freq = 'W'"
   ]
  },
  {
   "cell_type": "code",
   "execution_count": 7,
   "id": "3472fbdc",
   "metadata": {
    "execution": {
     "iopub.execute_input": "2024-12-16T03:13:17.341028Z",
     "iopub.status.busy": "2024-12-16T03:13:17.340265Z",
     "iopub.status.idle": "2024-12-16T03:13:17.347174Z",
     "shell.execute_reply": "2024-12-16T03:13:17.346125Z"
    },
    "papermill": {
     "duration": 0.020442,
     "end_time": "2024-12-16T03:13:17.349210",
     "exception": false,
     "start_time": "2024-12-16T03:13:17.328768",
     "status": "completed"
    },
    "tags": []
   },
   "outputs": [
    {
     "data": {
      "text/plain": [
       "Index(['1999-11-12', '1999-11-19', '1999-11-26', '1999-12-03', '1999-12-10',\n",
       "       '1999-12-17', '1999-12-23', '1999-12-31', '2000-01-07', '2000-01-14',\n",
       "       ...\n",
       "       '2020-11-27', '2020-12-04', '2020-12-11', '2020-12-18', '2020-12-24',\n",
       "       '2020-12-31', '2021-01-08', '2021-01-15', '2021-01-22', '2021-01-29'],\n",
       "      dtype='object', length=1108)"
      ]
     },
     "execution_count": 7,
     "metadata": {},
     "output_type": "execute_result"
    }
   ],
   "source": [
    "df.index"
   ]
  },
  {
   "cell_type": "code",
   "execution_count": 8,
   "id": "fc293c0c",
   "metadata": {
    "execution": {
     "iopub.execute_input": "2024-12-16T03:13:17.372259Z",
     "iopub.status.busy": "2024-12-16T03:13:17.371295Z",
     "iopub.status.idle": "2024-12-16T03:13:17.695896Z",
     "shell.execute_reply": "2024-12-16T03:13:17.694777Z"
    },
    "papermill": {
     "duration": 0.338259,
     "end_time": "2024-12-16T03:13:17.698158",
     "exception": false,
     "start_time": "2024-12-16T03:13:17.359899",
     "status": "completed"
    },
    "tags": []
   },
   "outputs": [
    {
     "data": {
      "image/png": "[encoded data removed]",
      "text/plain": [
       "<Figure size 1000x500 with 1 Axes>"
      ]
     },
     "metadata": {},
     "output_type": "display_data"
    }
   ],
   "source": [
    "df.plot(figsize=(10,5),title='Global Equity');"
   ]
  },
  {
   "cell_type": "code",
   "execution_count": 9,
   "id": "9aae521e",
   "metadata": {
    "execution": {
     "iopub.execute_input": "2024-12-16T03:13:17.722234Z",
     "iopub.status.busy": "2024-12-16T03:13:17.721856Z",
     "iopub.status.idle": "2024-12-16T03:13:17.729498Z",
     "shell.execute_reply": "2024-12-16T03:13:17.728579Z"
    },
    "papermill": {
     "duration": 0.021953,
     "end_time": "2024-12-16T03:13:17.731571",
     "exception": false,
     "start_time": "2024-12-16T03:13:17.709618",
     "status": "completed"
    },
    "tags": []
   },
   "outputs": [
    {
     "data": {
      "text/plain": [
       "close    0\n",
       "dtype: int64"
      ]
     },
     "execution_count": 9,
     "metadata": {},
     "output_type": "execute_result"
    }
   ],
   "source": [
    "df.isna().sum()"
   ]
  },
  {
   "cell_type": "code",
   "execution_count": 10,
   "id": "c783a888",
   "metadata": {
    "execution": {
     "iopub.execute_input": "2024-12-16T03:13:17.756075Z",
     "iopub.status.busy": "2024-12-16T03:13:17.755723Z",
     "iopub.status.idle": "2024-12-16T03:13:17.763182Z",
     "shell.execute_reply": "2024-12-16T03:13:17.762179Z"
    },
    "papermill": {
     "duration": 0.022077,
     "end_time": "2024-12-16T03:13:17.765102",
     "exception": false,
     "start_time": "2024-12-16T03:13:17.743025",
     "status": "completed"
    },
    "tags": []
   },
   "outputs": [
    {
     "data": {
      "text/plain": [
       "array([ 89.19,  86.  ,  91.12, ..., 212.65, 225.95, 231.96])"
      ]
     },
     "execution_count": 10,
     "metadata": {},
     "output_type": "execute_result"
    }
   ],
   "source": [
    "y = df.close.astype('float').values\n",
    "y"
   ]
  },
  {
   "cell_type": "markdown",
   "id": "93dfca73",
   "metadata": {
    "papermill": {
     "duration": 0.011276,
     "end_time": "2024-12-16T03:13:17.788200",
     "exception": false,
     "start_time": "2024-12-16T03:13:17.776924",
     "status": "completed"
    },
    "tags": []
   },
   "source": [
    "## Dividing data into train and test sets"
   ]
  },
  {
   "cell_type": "code",
   "execution_count": 11,
   "id": "45f4ab5d",
   "metadata": {
    "execution": {
     "iopub.execute_input": "2024-12-16T03:13:17.813612Z",
     "iopub.status.busy": "2024-12-16T03:13:17.813225Z",
     "iopub.status.idle": "2024-12-16T03:13:17.819440Z",
     "shell.execute_reply": "2024-12-16T03:13:17.818398Z"
    },
    "papermill": {
     "duration": 0.021242,
     "end_time": "2024-12-16T03:13:17.821544",
     "exception": false,
     "start_time": "2024-12-16T03:13:17.800302",
     "status": "completed"
    },
    "tags": []
   },
   "outputs": [],
   "source": [
    "train_df, test_df = train_test_split(df,test_size=0.8,shuffle=False,random_state=101)"
   ]
  },
  {
   "cell_type": "code",
   "execution_count": 12,
   "id": "103b60a5",
   "metadata": {
    "execution": {
     "iopub.execute_input": "2024-12-16T03:13:17.846579Z",
     "iopub.status.busy": "2024-12-16T03:13:17.846179Z",
     "iopub.status.idle": "2024-12-16T03:13:17.853000Z",
     "shell.execute_reply": "2024-12-16T03:13:17.851991Z"
    },
    "papermill": {
     "duration": 0.021788,
     "end_time": "2024-12-16T03:13:17.855002",
     "exception": false,
     "start_time": "2024-12-16T03:13:17.833214",
     "status": "completed"
    },
    "tags": []
   },
   "outputs": [
    {
     "data": {
      "text/plain": [
       "((221, 1), (887, 1))"
      ]
     },
     "execution_count": 12,
     "metadata": {},
     "output_type": "execute_result"
    }
   ],
   "source": [
    "train_df.shape, test_df.shape"
   ]
  },
  {
   "cell_type": "markdown",
   "id": "a9f8f038",
   "metadata": {
    "papermill": {
     "duration": 0.011117,
     "end_time": "2024-12-16T03:13:17.877728",
     "exception": false,
     "start_time": "2024-12-16T03:13:17.866611",
     "status": "completed"
    },
    "tags": []
   },
   "source": [
    "## Feature Scaling"
   ]
  },
  {
   "cell_type": "code",
   "execution_count": 13,
   "id": "bdaa3c8a",
   "metadata": {
    "execution": {
     "iopub.execute_input": "2024-12-16T03:13:17.902226Z",
     "iopub.status.busy": "2024-12-16T03:13:17.901853Z",
     "iopub.status.idle": "2024-12-16T03:13:17.911166Z",
     "shell.execute_reply": "2024-12-16T03:13:17.910202Z"
    },
    "papermill": {
     "duration": 0.024049,
     "end_time": "2024-12-16T03:13:17.913127",
     "exception": false,
     "start_time": "2024-12-16T03:13:17.889078",
     "status": "completed"
    },
    "tags": []
   },
   "outputs": [],
   "source": [
    "scaler = MinMaxScaler(feature_range=(0,1))\n",
    "train_norm = scaler.fit_transform(train_df)\n",
    "test_norm = scaler.transform(test_df)"
   ]
  },
  {
   "cell_type": "markdown",
   "id": "e3733329",
   "metadata": {
    "papermill": {
     "duration": 0.011127,
     "end_time": "2024-12-16T03:13:17.935763",
     "exception": false,
     "start_time": "2024-12-16T03:13:17.924636",
     "status": "completed"
    },
    "tags": []
   },
   "source": [
    "## Creating a custom Time Series Dataset class"
   ]
  },
  {
   "cell_type": "code",
   "execution_count": 14,
   "id": "775e72b3",
   "metadata": {
    "execution": {
     "iopub.execute_input": "2024-12-16T03:13:17.960130Z",
     "iopub.status.busy": "2024-12-16T03:13:17.959750Z",
     "iopub.status.idle": "2024-12-16T03:13:17.966070Z",
     "shell.execute_reply": "2024-12-16T03:13:17.965066Z"
    },
    "papermill": {
     "duration": 0.020961,
     "end_time": "2024-12-16T03:13:17.968066",
     "exception": false,
     "start_time": "2024-12-16T03:13:17.947105",
     "status": "completed"
    },
    "tags": []
   },
   "outputs": [],
   "source": [
    "class TimeSeriesDataset(Dataset):\n",
    "\n",
    "    def __init__(self,sequence_data,sequence_length):\n",
    "        super().__init__()\n",
    "        self.sequence = torch.tensor(sequence_data,dtype=torch.float32)\n",
    "        self.sequence_length = sequence_length\n",
    "        self.num_samples = len(self.sequence) - self.sequence_length\n",
    "\n",
    "    def __len__(self):\n",
    "        return self.num_samples\n",
    "\n",
    "    def __getitem__(self,idx):\n",
    "        window = self.sequence[idx:idx+self.sequence_length]\n",
    "        label = self.sequence[idx+self.sequence_length]\n",
    "        return (window,label)"
   ]
  },
  {
   "cell_type": "code",
   "execution_count": 15,
   "id": "aadc566e",
   "metadata": {
    "execution": {
     "iopub.execute_input": "2024-12-16T03:13:17.992569Z",
     "iopub.status.busy": "2024-12-16T03:13:17.992194Z",
     "iopub.status.idle": "2024-12-16T03:13:18.034242Z",
     "shell.execute_reply": "2024-12-16T03:13:18.033168Z"
    },
    "papermill": {
     "duration": 0.057044,
     "end_time": "2024-12-16T03:13:18.036714",
     "exception": false,
     "start_time": "2024-12-16T03:13:17.979670",
     "status": "completed"
    },
    "tags": []
   },
   "outputs": [],
   "source": [
    "torch.manual_seed(48)\n",
    "train_data = TimeSeriesDataset(train_norm,sequence_length=10)\n",
    "test_data = TimeSeriesDataset(test_norm,sequence_length=10)"
   ]
  },
  {
   "cell_type": "markdown",
   "id": "ba5f965e",
   "metadata": {
    "papermill": {
     "duration": 0.011221,
     "end_time": "2024-12-16T03:13:18.059962",
     "exception": false,
     "start_time": "2024-12-16T03:13:18.048741",
     "status": "completed"
    },
    "tags": []
   },
   "source": [
    "## Creating Data Loaders for train and test sets"
   ]
  },
  {
   "cell_type": "code",
   "execution_count": 16,
   "id": "8da4366c",
   "metadata": {
    "execution": {
     "iopub.execute_input": "2024-12-16T03:13:18.084417Z",
     "iopub.status.busy": "2024-12-16T03:13:18.084016Z",
     "iopub.status.idle": "2024-12-16T03:13:18.089541Z",
     "shell.execute_reply": "2024-12-16T03:13:18.088516Z"
    },
    "papermill": {
     "duration": 0.020219,
     "end_time": "2024-12-16T03:13:18.091635",
     "exception": false,
     "start_time": "2024-12-16T03:13:18.071416",
     "status": "completed"
    },
    "tags": []
   },
   "outputs": [],
   "source": [
    "train_data_loader = DataLoader(dataset=train_data,batch_size=10,shuffle=False,num_workers=5)\n",
    "test_data_loader = DataLoader(dataset=test_data,batch_size=10,shuffle=False,num_workers=5)"
   ]
  },
  {
   "cell_type": "code",
   "execution_count": 17,
   "id": "43218517",
   "metadata": {
    "execution": {
     "iopub.execute_input": "2024-12-16T03:13:18.116559Z",
     "iopub.status.busy": "2024-12-16T03:13:18.116175Z",
     "iopub.status.idle": "2024-12-16T03:13:19.718812Z",
     "shell.execute_reply": "2024-12-16T03:13:19.717441Z"
    },
    "papermill": {
     "duration": 1.617851,
     "end_time": "2024-12-16T03:13:19.721463",
     "exception": false,
     "start_time": "2024-12-16T03:13:18.103612",
     "status": "completed"
    },
    "tags": []
   },
   "outputs": [],
   "source": [
    "for seq, targets in train_data_loader:\n",
    "    break"
   ]
  },
  {
   "cell_type": "code",
   "execution_count": 18,
   "id": "dfa93c58",
   "metadata": {
    "execution": {
     "iopub.execute_input": "2024-12-16T03:13:19.746915Z",
     "iopub.status.busy": "2024-12-16T03:13:19.746489Z",
     "iopub.status.idle": "2024-12-16T03:13:19.787929Z",
     "shell.execute_reply": "2024-12-16T03:13:19.786906Z"
    },
    "papermill": {
     "duration": 0.056742,
     "end_time": "2024-12-16T03:13:19.790192",
     "exception": false,
     "start_time": "2024-12-16T03:13:19.733450",
     "status": "completed"
    },
    "tags": []
   },
   "outputs": [
    {
     "data": {
      "text/plain": [
       "(tensor([[0.6991],\n",
       "         [0.6651],\n",
       "         [0.7196],\n",
       "         [0.7729],\n",
       "         [0.7489],\n",
       "         [0.9767],\n",
       "         [1.0000],\n",
       "         [0.9927],\n",
       "         [0.9361],\n",
       "         [0.9447]]),\n",
       " tensor([0.8542]))"
      ]
     },
     "execution_count": 18,
     "metadata": {},
     "output_type": "execute_result"
    }
   ],
   "source": [
    "seq[0], targets[0]"
   ]
  },
  {
   "cell_type": "markdown",
   "id": "ea4793bf",
   "metadata": {
    "papermill": {
     "duration": 0.011175,
     "end_time": "2024-12-16T03:13:19.812879",
     "exception": false,
     "start_time": "2024-12-16T03:13:19.801704",
     "status": "completed"
    },
    "tags": []
   },
   "source": [
    "## Defining the LSTM model architecture"
   ]
  },
  {
   "cell_type": "code",
   "execution_count": 19,
   "id": "7855bc10",
   "metadata": {
    "execution": {
     "iopub.execute_input": "2024-12-16T03:13:19.837599Z",
     "iopub.status.busy": "2024-12-16T03:13:19.837187Z",
     "iopub.status.idle": "2024-12-16T03:13:19.845103Z",
     "shell.execute_reply": "2024-12-16T03:13:19.844043Z"
    },
    "papermill": {
     "duration": 0.022785,
     "end_time": "2024-12-16T03:13:19.847198",
     "exception": false,
     "start_time": "2024-12-16T03:13:19.824413",
     "status": "completed"
    },
    "tags": []
   },
   "outputs": [],
   "source": [
    "class LSTM(nn.Module):\n",
    "\n",
    "    def __init__(self,input_size=1,hidden_size=100,output_size=1):\n",
    "        super(LSTM,self).__init__()\n",
    "        self.hidden_size = hidden_size\n",
    "        self.lstm = nn.LSTM(input_size=input_size,hidden_size=hidden_size,batch_first=True)\n",
    "        self.linear = nn.Linear(in_features=hidden_size,out_features=output_size)\n",
    "        self.hidden = (torch.zeros(1,1,self.hidden_size),torch.zeros(1,1,self.hidden_size))\n",
    "\n",
    "    def forward(self,sequence):\n",
    "        batch_size = sequence.size(0)\n",
    "        self.hidden = self.init_hidden(batch_size)\n",
    "        lstm_output, self.hidden = self.lstm(sequence,self.hidden)\n",
    "        pred = self.linear(lstm_output[:,-1,:])\n",
    "        return pred\n",
    "\n",
    "    def init_hidden(self,batch_size):\n",
    "        return (torch.zeros(1,batch_size,self.hidden_size),torch.zeros(1,batch_size,self.hidden_size))"
   ]
  },
  {
   "cell_type": "code",
   "execution_count": 20,
   "id": "7cdfcbec",
   "metadata": {
    "execution": {
     "iopub.execute_input": "2024-12-16T03:13:19.872041Z",
     "iopub.status.busy": "2024-12-16T03:13:19.871665Z",
     "iopub.status.idle": "2024-12-16T03:13:19.885536Z",
     "shell.execute_reply": "2024-12-16T03:13:19.884504Z"
    },
    "papermill": {
     "duration": 0.028793,
     "end_time": "2024-12-16T03:13:19.887649",
     "exception": false,
     "start_time": "2024-12-16T03:13:19.858856",
     "status": "completed"
    },
    "tags": []
   },
   "outputs": [
    {
     "data": {
      "text/plain": [
       "LSTM(\n",
       "  (lstm): LSTM(1, 150, batch_first=True)\n",
       "  (linear): Linear(in_features=150, out_features=1, bias=True)\n",
       ")"
      ]
     },
     "execution_count": 20,
     "metadata": {},
     "output_type": "execute_result"
    }
   ],
   "source": [
    "torch.manual_seed(48)\n",
    "model = LSTM(input_size=1,hidden_size=150)\n",
    "model"
   ]
  },
  {
   "cell_type": "code",
   "execution_count": 21,
   "id": "d5e0144a",
   "metadata": {
    "execution": {
     "iopub.execute_input": "2024-12-16T03:13:19.912494Z",
     "iopub.status.busy": "2024-12-16T03:13:19.912082Z",
     "iopub.status.idle": "2024-12-16T03:13:19.918275Z",
     "shell.execute_reply": "2024-12-16T03:13:19.917027Z"
    },
    "papermill": {
     "duration": 0.021039,
     "end_time": "2024-12-16T03:13:19.920431",
     "exception": false,
     "start_time": "2024-12-16T03:13:19.899392",
     "status": "completed"
    },
    "tags": []
   },
   "outputs": [
    {
     "name": "stdout",
     "output_type": "stream",
     "text": [
      "600\n",
      "90000\n",
      "600\n",
      "600\n",
      "150\n",
      "1\n",
      "Total LSTM model parameters: 91951\n"
     ]
    }
   ],
   "source": [
    "total_params = 0\n",
    "\n",
    "for param in model.parameters():\n",
    "    print(param.numel())\n",
    "    total_params += param.numel()\n",
    "\n",
    "print(\"Total LSTM model parameters:\", total_params)"
   ]
  },
  {
   "cell_type": "code",
   "execution_count": 22,
   "id": "df45282d",
   "metadata": {
    "execution": {
     "iopub.execute_input": "2024-12-16T03:13:19.945194Z",
     "iopub.status.busy": "2024-12-16T03:13:19.944819Z",
     "iopub.status.idle": "2024-12-16T03:13:19.953231Z",
     "shell.execute_reply": "2024-12-16T03:13:19.952158Z"
    },
    "papermill": {
     "duration": 0.023107,
     "end_time": "2024-12-16T03:13:19.955238",
     "exception": false,
     "start_time": "2024-12-16T03:13:19.932131",
     "status": "completed"
    },
    "tags": []
   },
   "outputs": [
    {
     "data": {
      "text/plain": [
       "=================================================================\n",
       "Layer (type:depth-idx)                   Param #\n",
       "=================================================================\n",
       "LSTM                                     --\n",
       "├─LSTM: 1-1                              91,800\n",
       "├─Linear: 1-2                            151\n",
       "=================================================================\n",
       "Total params: 91,951\n",
       "Trainable params: 91,951\n",
       "Non-trainable params: 0\n",
       "================================================================="
      ]
     },
     "execution_count": 22,
     "metadata": {},
     "output_type": "execute_result"
    }
   ],
   "source": [
    "summary(model)"
   ]
  },
  {
   "cell_type": "markdown",
   "id": "543b4e27",
   "metadata": {
    "execution": {
     "iopub.execute_input": "2024-12-16T03:02:16.631940Z",
     "iopub.status.busy": "2024-12-16T03:02:16.631498Z",
     "iopub.status.idle": "2024-12-16T03:02:16.637631Z",
     "shell.execute_reply": "2024-12-16T03:02:16.636232Z",
     "shell.execute_reply.started": "2024-12-16T03:02:16.631896Z"
    },
    "papermill": {
     "duration": 0.011925,
     "end_time": "2024-12-16T03:13:19.979305",
     "exception": false,
     "start_time": "2024-12-16T03:13:19.967380",
     "status": "completed"
    },
    "tags": []
   },
   "source": [
    "## Model Training & Evaluation"
   ]
  },
  {
   "cell_type": "code",
   "execution_count": 23,
   "id": "766f4414",
   "metadata": {
    "execution": {
     "iopub.execute_input": "2024-12-16T03:13:20.005579Z",
     "iopub.status.busy": "2024-12-16T03:13:20.005157Z",
     "iopub.status.idle": "2024-12-16T03:13:21.037127Z",
     "shell.execute_reply": "2024-12-16T03:13:21.036074Z"
    },
    "papermill": {
     "duration": 1.047769,
     "end_time": "2024-12-16T03:13:21.039501",
     "exception": false,
     "start_time": "2024-12-16T03:13:19.991732",
     "status": "completed"
    },
    "tags": []
   },
   "outputs": [],
   "source": [
    "criterion = nn.MSELoss()\n",
    "optimizer = optim.AdamW(params=model.parameters(),lr=0.001)"
   ]
  },
  {
   "cell_type": "code",
   "execution_count": 24,
   "id": "5fbaf44d",
   "metadata": {
    "execution": {
     "iopub.execute_input": "2024-12-16T03:13:21.065779Z",
     "iopub.status.busy": "2024-12-16T03:13:21.065175Z",
     "iopub.status.idle": "2024-12-16T03:13:49.364480Z",
     "shell.execute_reply": "2024-12-16T03:13:49.363054Z"
    },
    "papermill": {
     "duration": 28.315062,
     "end_time": "2024-12-16T03:13:49.366863",
     "exception": false,
     "start_time": "2024-12-16T03:13:21.051801",
     "status": "completed"
    },
    "tags": []
   },
   "outputs": [
    {
     "name": "stdout",
     "output_type": "stream",
     "text": [
      "Epoch 1 -> Loss: 0.12628515149382027\n",
      "Epoch 2 -> Loss: 0.049639066242062574\n",
      "Epoch 3 -> Loss: 0.0261874936404638\n",
      "Epoch 4 -> Loss: 0.030551062992096624\n",
      "Epoch 5 -> Loss: 0.013637871285688809\n",
      "Epoch 6 -> Loss: 0.009970689048879483\n",
      "Epoch 7 -> Loss: 0.008055377230696402\n",
      "Epoch 8 -> Loss: 0.008130337411304563\n",
      "Epoch 9 -> Loss: 0.00929417505937057\n",
      "Epoch 10 -> Loss: 0.01145900699669834\n",
      "Epoch 11 -> Loss: 0.01193891677857292\n",
      "Epoch 12 -> Loss: 0.008197609237289395\n",
      "Epoch 13 -> Loss: 0.0058824574088331165\n",
      "Epoch 14 -> Loss: 0.005750031329377883\n",
      "Epoch 15 -> Loss: 0.005090709622229703\n",
      "Epoch 16 -> Loss: 0.004873372044874652\n",
      "Epoch 17 -> Loss: 0.004844319040950557\n",
      "Epoch 18 -> Loss: 0.004875419655780372\n",
      "Epoch 19 -> Loss: 0.004935325368767901\n",
      "Epoch 20 -> Loss: 0.005010934809185776\n",
      "Epoch 21 -> Loss: 0.005020977152691392\n",
      "Epoch 22 -> Loss: 0.005103643474616216\n",
      "Epoch 23 -> Loss: 0.004988278104891916\n",
      "Epoch 24 -> Loss: 0.004961107628001959\n",
      "Epoch 25 -> Loss: 0.0047461767231156545\n",
      "Epoch 26 -> Loss: 0.00465300165425023\n",
      "Epoch 27 -> Loss: 0.004470529574477537\n",
      "Epoch 28 -> Loss: 0.004414239481279351\n",
      "Epoch 29 -> Loss: 0.0043131427770607515\n",
      "Epoch 30 -> Loss: 0.0043090697009492114\n",
      "Epoch 31 -> Loss: 0.0042395696178904145\n",
      "Epoch 32 -> Loss: 0.004267375053380171\n",
      "Epoch 33 -> Loss: 0.0041736372440936975\n",
      "Epoch 34 -> Loss: 0.004213291323222537\n",
      "Epoch 35 -> Loss: 0.004065110610099509\n",
      "Epoch 36 -> Loss: 0.004098830261351726\n",
      "Epoch 37 -> Loss: 0.003907219032870754\n",
      "Epoch 38 -> Loss: 0.00394179776404516\n",
      "Epoch 39 -> Loss: 0.0037480530875406907\n",
      "Epoch 40 -> Loss: 0.0038101812913075924\n",
      "Epoch 41 -> Loss: 0.0036317842254489237\n",
      "Epoch 42 -> Loss: 0.003746489341833384\n",
      "Epoch 43 -> Loss: 0.0035464245011098683\n",
      "Epoch 44 -> Loss: 0.0037333167701118245\n",
      "Epoch 45 -> Loss: 0.003454722725357649\n",
      "Epoch 46 -> Loss: 0.0037072241686308353\n",
      "Epoch 47 -> Loss: 0.003338682508911006\n",
      "Epoch 48 -> Loss: 0.0036052216415886173\n",
      "Epoch 49 -> Loss: 0.0032040198401029393\n",
      "Epoch 50 -> Loss: 0.003424621748060665\n",
      "Epoch 51 -> Loss: 0.003063137349355119\n",
      "Epoch 52 -> Loss: 0.0032150644596681973\n",
      "Epoch 53 -> Loss: 0.0029235629031476988\n",
      "Epoch 54 -> Loss: 0.0030207782418239567\n",
      "Epoch 55 -> Loss: 0.002784170815588864\n",
      "Epoch 56 -> Loss: 0.002853521876452512\n",
      "Epoch 57 -> Loss: 0.0026416643330859106\n",
      "Epoch 58 -> Loss: 0.0027117726490773334\n",
      "Epoch 59 -> Loss: 0.002504594744757262\n",
      "Epoch 60 -> Loss: 0.0025993139977138276\n",
      "Epoch 61 -> Loss: 0.0023818452422843125\n",
      "Epoch 62 -> Loss: 0.002472859894210573\n",
      "Epoch 63 -> Loss: 0.002264163502497302\n",
      "Epoch 64 -> Loss: 0.002316657521160695\n",
      "Epoch 65 -> Loss: 0.0022054279870644677\n",
      "Epoch 66 -> Loss: 0.002233820998051008\n",
      "Epoch 67 -> Loss: 0.0021933248393576255\n",
      "Epoch 68 -> Loss: 0.002223539167640741\n",
      "Epoch 69 -> Loss: 0.0021546840679630723\n",
      "Epoch 70 -> Loss: 0.0022226209617987147\n",
      "Epoch 71 -> Loss: 0.002097927670547506\n",
      "Epoch 72 -> Loss: 0.0021919003926417313\n",
      "Epoch 73 -> Loss: 0.0020467249510561073\n",
      "Epoch 74 -> Loss: 0.0021331166004033134\n",
      "Epoch 75 -> Loss: 0.0020062353889277965\n",
      "Epoch 76 -> Loss: 0.0020724381962612492\n",
      "Epoch 77 -> Loss: 0.0019758965638836594\n",
      "Epoch 78 -> Loss: 0.0020277437729419034\n",
      "Epoch 79 -> Loss: 0.0019513855057249946\n",
      "Epoch 80 -> Loss: 0.0019991907812378818\n",
      "Epoch 81 -> Loss: 0.0019293900006067072\n",
      "Epoch 82 -> Loss: 0.001979420461773109\n",
      "Epoch 83 -> Loss: 0.001909137536792762\n",
      "Epoch 84 -> Loss: 0.0019620674209735707\n",
      "Epoch 85 -> Loss: 0.0018904872567046286\n",
      "Epoch 86 -> Loss: 0.0019443478001903713\n",
      "Epoch 87 -> Loss: 0.0018733955494099064\n",
      "Epoch 88 -> Loss: 0.0019264556371622762\n",
      "Epoch 89 -> Loss: 0.001858024328777736\n",
      "Epoch 90 -> Loss: 0.0019097202922363397\n",
      "Epoch 91 -> Loss: 0.001844452224428427\n",
      "Epoch 92 -> Loss: 0.001895104332871514\n",
      "Epoch 93 -> Loss: 0.0018324775148192368\n",
      "Epoch 94 -> Loss: 0.0018827525037233334\n",
      "Epoch 95 -> Loss: 0.0018217276223036936\n",
      "Epoch 96 -> Loss: 0.0018722430628176053\n",
      "Epoch 97 -> Loss: 0.0018118448585730882\n",
      "Epoch 98 -> Loss: 0.0018629827345648664\n",
      "Epoch 99 -> Loss: 0.0018025960800349078\n",
      "Epoch 100 -> Loss: 0.0018544566232363154\n",
      "Total time elapsed in LSTM model training: 0.47151474952697753 minutes.\n"
     ]
    }
   ],
   "source": [
    "epochs = 100\n",
    "\n",
    "losses = []\n",
    "\n",
    "start_time = time.time()\n",
    "\n",
    "for i in range(1,epochs+1):\n",
    "    epoch_loss = 0\n",
    "    \n",
    "    for seq, y_train in train_data_loader:\n",
    "        optimizer.zero_grad()\n",
    "        y_pred = model(seq)\n",
    "        loss = criterion(y_pred,y_train)\n",
    "        loss.backward()\n",
    "        optimizer.step()\n",
    "\n",
    "        epoch_loss += loss.item()\n",
    "\n",
    "    losses.append(epoch_loss/len(train_data_loader))\n",
    "    print(f\"Epoch {i} -> Loss: {epoch_loss/len(train_data_loader)}\")\n",
    "\n",
    "print(f\"Total time elapsed in LSTM model training: {(time.time()-start_time)/60} minutes.\")"
   ]
  },
  {
   "cell_type": "code",
   "execution_count": 25,
   "id": "cf239eec",
   "metadata": {
    "execution": {
     "iopub.execute_input": "2024-12-16T03:13:49.404320Z",
     "iopub.status.busy": "2024-12-16T03:13:49.403932Z",
     "iopub.status.idle": "2024-12-16T03:13:49.661698Z",
     "shell.execute_reply": "2024-12-16T03:13:49.660608Z"
    },
    "papermill": {
     "duration": 0.278893,
     "end_time": "2024-12-16T03:13:49.663995",
     "exception": false,
     "start_time": "2024-12-16T03:13:49.385102",
     "status": "completed"
    },
    "tags": []
   },
   "outputs": [
    {
     "data": {
      "image/png": "[encoded data removed]",
      "text/plain": [
       "<Figure size 640x480 with 1 Axes>"
      ]
     },
     "metadata": {},
     "output_type": "display_data"
    }
   ],
   "source": [
    "plt.plot(range(1,epochs+1),losses)\n",
    "plt.xlabel('Epoch')\n",
    "plt.ylabel('MSE Loss')\n",
    "plt.title('Loss Graph')\n",
    "plt.show();"
   ]
  },
  {
   "cell_type": "code",
   "execution_count": 26,
   "id": "573cf058",
   "metadata": {
    "execution": {
     "iopub.execute_input": "2024-12-16T03:13:49.700822Z",
     "iopub.status.busy": "2024-12-16T03:13:49.700458Z",
     "iopub.status.idle": "2024-12-16T03:13:50.128290Z",
     "shell.execute_reply": "2024-12-16T03:13:50.126873Z"
    },
    "papermill": {
     "duration": 0.449369,
     "end_time": "2024-12-16T03:13:50.131006",
     "exception": false,
     "start_time": "2024-12-16T03:13:49.681637",
     "status": "completed"
    },
    "tags": []
   },
   "outputs": [
    {
     "name": "stdout",
     "output_type": "stream",
     "text": [
      "Average test loss: 0.0023\n"
     ]
    }
   ],
   "source": [
    "model.eval() # Set model to evaluation mode\n",
    "test_loss = 0\n",
    "all_predictions = []\n",
    "all_targets = []\n",
    "\n",
    "with torch.no_grad():\n",
    "\n",
    "    for seq, y_test in test_data_loader:\n",
    "        y_pred = model(seq)\n",
    "        loss = criterion(y_pred,y_test)\n",
    "        test_loss += loss.item()\n",
    "        all_predictions.append(y_pred)\n",
    "        all_targets.append(y_test)\n",
    "\n",
    "test_loss /= len(test_data_loader)\n",
    "all_predictions = np.concatenate(all_predictions)\n",
    "all_targets = np.concatenate(all_targets)\n",
    "print(\"Average test loss:\", round(test_loss,4))"
   ]
  },
  {
   "cell_type": "code",
   "execution_count": 27,
   "id": "ef4b1365",
   "metadata": {
    "execution": {
     "iopub.execute_input": "2024-12-16T03:13:50.168532Z",
     "iopub.status.busy": "2024-12-16T03:13:50.168095Z",
     "iopub.status.idle": "2024-12-16T03:13:50.177421Z",
     "shell.execute_reply": "2024-12-16T03:13:50.176198Z"
    },
    "papermill": {
     "duration": 0.030339,
     "end_time": "2024-12-16T03:13:50.179561",
     "exception": false,
     "start_time": "2024-12-16T03:13:50.149222",
     "status": "completed"
    },
    "tags": []
   },
   "outputs": [
    {
     "data": {
      "text/plain": [
       "array([[0.0175969 ],\n",
       "       [0.01472273],\n",
       "       [0.02951889],\n",
       "       [0.02670479],\n",
       "       [0.0207421 ]], dtype=float32)"
      ]
     },
     "execution_count": 27,
     "metadata": {},
     "output_type": "execute_result"
    }
   ],
   "source": [
    "all_predictions[:5]"
   ]
  },
  {
   "cell_type": "code",
   "execution_count": 28,
   "id": "f362c598",
   "metadata": {
    "execution": {
     "iopub.execute_input": "2024-12-16T03:13:50.217294Z",
     "iopub.status.busy": "2024-12-16T03:13:50.216915Z",
     "iopub.status.idle": "2024-12-16T03:13:50.223847Z",
     "shell.execute_reply": "2024-12-16T03:13:50.222792Z"
    },
    "papermill": {
     "duration": 0.027939,
     "end_time": "2024-12-16T03:13:50.225779",
     "exception": false,
     "start_time": "2024-12-16T03:13:50.197840",
     "status": "completed"
    },
    "tags": []
   },
   "outputs": [
    {
     "data": {
      "text/plain": [
       "array([[0.01704303],\n",
       "       [0.04239454],\n",
       "       [0.02737537],\n",
       "       [0.02364721],\n",
       "       [0.02449936]], dtype=float32)"
      ]
     },
     "execution_count": 28,
     "metadata": {},
     "output_type": "execute_result"
    }
   ],
   "source": [
    "all_targets[:5]"
   ]
  },
  {
   "cell_type": "code",
   "execution_count": 29,
   "id": "be8e7fbf",
   "metadata": {
    "execution": {
     "iopub.execute_input": "2024-12-16T03:13:50.263592Z",
     "iopub.status.busy": "2024-12-16T03:13:50.262849Z",
     "iopub.status.idle": "2024-12-16T03:13:50.270297Z",
     "shell.execute_reply": "2024-12-16T03:13:50.269186Z"
    },
    "papermill": {
     "duration": 0.028337,
     "end_time": "2024-12-16T03:13:50.272280",
     "exception": false,
     "start_time": "2024-12-16T03:13:50.243943",
     "status": "completed"
    },
    "tags": []
   },
   "outputs": [
    {
     "data": {
      "text/plain": [
       "array([[25.211998],\n",
       "       [24.942171],\n",
       "       [26.331232],\n",
       "       [26.067047],\n",
       "       [25.507269]], dtype=float32)"
      ]
     },
     "execution_count": 29,
     "metadata": {},
     "output_type": "execute_result"
    }
   ],
   "source": [
    "true_predictions = scaler.inverse_transform(all_predictions.reshape(-1,1))\n",
    "true_predictions[:5]"
   ]
  },
  {
   "cell_type": "code",
   "execution_count": 30,
   "id": "ad0ed79e",
   "metadata": {
    "execution": {
     "iopub.execute_input": "2024-12-16T03:13:50.309973Z",
     "iopub.status.busy": "2024-12-16T03:13:50.309161Z",
     "iopub.status.idle": "2024-12-16T03:13:50.316367Z",
     "shell.execute_reply": "2024-12-16T03:13:50.315380Z"
    },
    "papermill": {
     "duration": 0.027647,
     "end_time": "2024-12-16T03:13:50.318268",
     "exception": false,
     "start_time": "2024-12-16T03:13:50.290621",
     "status": "completed"
    },
    "tags": []
   },
   "outputs": [
    {
     "data": {
      "text/plain": [
       "array([[25.16    ],\n",
       "       [27.54    ],\n",
       "       [26.130001],\n",
       "       [25.779999],\n",
       "       [25.86    ]], dtype=float32)"
      ]
     },
     "execution_count": 30,
     "metadata": {},
     "output_type": "execute_result"
    }
   ],
   "source": [
    "actual_values = scaler.inverse_transform(all_targets.reshape(-1,1))\n",
    "actual_values[:5]"
   ]
  },
  {
   "cell_type": "code",
   "execution_count": 31,
   "id": "81098ced",
   "metadata": {
    "execution": {
     "iopub.execute_input": "2024-12-16T03:13:50.355409Z",
     "iopub.status.busy": "2024-12-16T03:13:50.354570Z",
     "iopub.status.idle": "2024-12-16T03:13:50.364549Z",
     "shell.execute_reply": "2024-12-16T03:13:50.363548Z"
    },
    "papermill": {
     "duration": 0.030906,
     "end_time": "2024-12-16T03:13:50.366691",
     "exception": false,
     "start_time": "2024-12-16T03:13:50.335785",
     "status": "completed"
    },
    "tags": []
   },
   "outputs": [
    {
     "name": "stdout",
     "output_type": "stream",
     "text": [
      "MAE: 2.529215\n",
      "MSE: 19.216318\n",
      "MAPE: 0.03847716\n",
      "MSLE: 0.0021951494\n",
      "RMSE: 4.383642\n"
     ]
    }
   ],
   "source": [
    "print(\"MAE:\", mean_absolute_error(actual_values,true_predictions))\n",
    "print(\"MSE:\", mean_squared_error(actual_values,true_predictions))\n",
    "print(\"MAPE:\", mean_absolute_percentage_error(actual_values,true_predictions))\n",
    "print(\"MSLE:\", mean_squared_log_error(actual_values,true_predictions))\n",
    "print(\"RMSE:\", np.sqrt(mean_squared_error(actual_values,true_predictions)))"
   ]
  },
  {
   "cell_type": "code",
   "execution_count": 32,
   "id": "d7b43ba3",
   "metadata": {
    "execution": {
     "iopub.execute_input": "2024-12-16T03:13:50.404202Z",
     "iopub.status.busy": "2024-12-16T03:13:50.403463Z",
     "iopub.status.idle": "2024-12-16T03:13:50.410568Z",
     "shell.execute_reply": "2024-12-16T03:13:50.409559Z"
    },
    "papermill": {
     "duration": 0.027929,
     "end_time": "2024-12-16T03:13:50.412497",
     "exception": false,
     "start_time": "2024-12-16T03:13:50.384568",
     "status": "completed"
    },
    "tags": []
   },
   "outputs": [
    {
     "data": {
      "text/plain": [
       "Index(['2004-02-06', '2004-02-13', '2004-02-20', '2004-02-27', '2004-03-05',\n",
       "       '2004-03-12', '2004-03-19', '2004-03-26', '2004-04-02', '2004-04-08',\n",
       "       ...\n",
       "       '2020-11-27', '2020-12-04', '2020-12-11', '2020-12-18', '2020-12-24',\n",
       "       '2020-12-31', '2021-01-08', '2021-01-15', '2021-01-22', '2021-01-29'],\n",
       "      dtype='object', length=887)"
      ]
     },
     "execution_count": 32,
     "metadata": {},
     "output_type": "execute_result"
    }
   ],
   "source": [
    "test_df.index"
   ]
  },
  {
   "cell_type": "code",
   "execution_count": 33,
   "id": "62d1fb08",
   "metadata": {
    "execution": {
     "iopub.execute_input": "2024-12-16T03:13:50.450411Z",
     "iopub.status.busy": "2024-12-16T03:13:50.450021Z",
     "iopub.status.idle": "2024-12-16T03:13:50.470544Z",
     "shell.execute_reply": "2024-12-16T03:13:50.469412Z"
    },
    "papermill": {
     "duration": 0.041669,
     "end_time": "2024-12-16T03:13:50.472683",
     "exception": false,
     "start_time": "2024-12-16T03:13:50.431014",
     "status": "completed"
    },
    "tags": []
   },
   "outputs": [
    {
     "data": {
      "text/plain": [
       "DatetimeIndex(['2004-02-08', '2004-02-15', '2004-02-22', '2004-02-29',\n",
       "               '2004-03-07', '2004-03-14', '2004-03-21', '2004-03-28',\n",
       "               '2004-04-04', '2004-04-11',\n",
       "               ...\n",
       "               '2020-09-20', '2020-09-27', '2020-10-04', '2020-10-11',\n",
       "               '2020-10-18', '2020-10-25', '2020-11-01', '2020-11-08',\n",
       "               '2020-11-15', '2020-11-22'],\n",
       "              dtype='datetime64[ns]', length=877, freq='W-SUN')"
      ]
     },
     "execution_count": 33,
     "metadata": {},
     "output_type": "execute_result"
    }
   ],
   "source": [
    "dates = pd.date_range(start='2004-02-06',end='2021-01-29',freq='W')\n",
    "dates = dates[:len(true_predictions)]\n",
    "dates"
   ]
  },
  {
   "cell_type": "code",
   "execution_count": 34,
   "id": "026fb75a",
   "metadata": {
    "execution": {
     "iopub.execute_input": "2024-12-16T03:13:50.510751Z",
     "iopub.status.busy": "2024-12-16T03:13:50.510311Z",
     "iopub.status.idle": "2024-12-16T03:13:50.515069Z",
     "shell.execute_reply": "2024-12-16T03:13:50.514102Z"
    },
    "papermill": {
     "duration": 0.026181,
     "end_time": "2024-12-16T03:13:50.517124",
     "exception": false,
     "start_time": "2024-12-16T03:13:50.490943",
     "status": "completed"
    },
    "tags": []
   },
   "outputs": [],
   "source": [
    "true_predictions = true_predictions.flatten()\n",
    "actual_values = actual_values.flatten()"
   ]
  },
  {
   "cell_type": "code",
   "execution_count": 35,
   "id": "b71ff3a6",
   "metadata": {
    "execution": {
     "iopub.execute_input": "2024-12-16T03:13:50.555426Z",
     "iopub.status.busy": "2024-12-16T03:13:50.555020Z",
     "iopub.status.idle": "2024-12-16T03:13:50.937075Z",
     "shell.execute_reply": "2024-12-16T03:13:50.935718Z"
    },
    "papermill": {
     "duration": 0.404121,
     "end_time": "2024-12-16T03:13:50.939392",
     "exception": false,
     "start_time": "2024-12-16T03:13:50.535271",
     "status": "completed"
    },
    "tags": []
   },
   "outputs": [
    {
     "data": {
      "image/png": "[encoded data removed]",
      "text/plain": [
       "<Figure size 1200x600 with 1 Axes>"
      ]
     },
     "metadata": {},
     "output_type": "display_data"
    }
   ],
   "source": [
    "plt.figure(figsize=(12, 6))\n",
    "plt.plot(dates, actual_values, label='Actual Values', color='blue')\n",
    "plt.plot(dates, true_predictions, label='Predicted Values', color='orange')\n",
    "plt.xlabel('Date')\n",
    "plt.ylabel('Values')\n",
    "plt.title('Time Series Forecast: Predictions vs Actuals')\n",
    "plt.legend()\n",
    "plt.grid(True)\n",
    "plt.show()"
   ]
  },
  {
   "cell_type": "markdown",
   "id": "0faffdbd",
   "metadata": {
    "papermill": {
     "duration": 0.01888,
     "end_time": "2024-12-16T03:13:50.978311",
     "exception": false,
     "start_time": "2024-12-16T03:13:50.959431",
     "status": "completed"
    },
    "tags": []
   },
   "source": [
    "## Re-training the model on whole data"
   ]
  },
  {
   "cell_type": "code",
   "execution_count": 36,
   "id": "b03d7ed2",
   "metadata": {
    "execution": {
     "iopub.execute_input": "2024-12-16T03:13:51.019235Z",
     "iopub.status.busy": "2024-12-16T03:13:51.018845Z",
     "iopub.status.idle": "2024-12-16T03:13:51.025060Z",
     "shell.execute_reply": "2024-12-16T03:13:51.024199Z"
    },
    "papermill": {
     "duration": 0.029369,
     "end_time": "2024-12-16T03:13:51.026964",
     "exception": false,
     "start_time": "2024-12-16T03:13:50.997595",
     "status": "completed"
    },
    "tags": []
   },
   "outputs": [],
   "source": [
    "criterion = nn.MSELoss()\n",
    "optimizer = optim.Adam(model.parameters(), lr=1e-4)  # Lower learning rate\n",
    "scheduler = optim.lr_scheduler.StepLR(optimizer, step_size=20, gamma=0.5)  # Reduce LR every 20 epochs"
   ]
  },
  {
   "cell_type": "code",
   "execution_count": 37,
   "id": "7bb0cf63",
   "metadata": {
    "execution": {
     "iopub.execute_input": "2024-12-16T03:13:51.067222Z",
     "iopub.status.busy": "2024-12-16T03:13:51.066835Z",
     "iopub.status.idle": "2024-12-16T03:13:51.073551Z",
     "shell.execute_reply": "2024-12-16T03:13:51.072590Z"
    },
    "papermill": {
     "duration": 0.029514,
     "end_time": "2024-12-16T03:13:51.075529",
     "exception": false,
     "start_time": "2024-12-16T03:13:51.046015",
     "status": "completed"
    },
    "tags": []
   },
   "outputs": [],
   "source": [
    "# Custom function to initialize model weights using Xavier initialization\n",
    "def init_weights(m):\n",
    "    if isinstance(m, nn.Linear):\n",
    "        nn.init.xavier_uniform_(m.weight)\n",
    "        if m.bias is not None:\n",
    "            nn.init.zeros_(m.bias)\n",
    "    elif isinstance(m, nn.LSTM):\n",
    "        for name, param in m.named_parameters():\n",
    "            if \"weight\" in name:\n",
    "                nn.init.xavier_uniform_(param)\n",
    "            elif \"bias\" in name:\n",
    "                nn.init.zeros_(param)"
   ]
  },
  {
   "cell_type": "code",
   "execution_count": 38,
   "id": "1efc991a",
   "metadata": {
    "execution": {
     "iopub.execute_input": "2024-12-16T03:13:51.115505Z",
     "iopub.status.busy": "2024-12-16T03:13:51.115104Z",
     "iopub.status.idle": "2024-12-16T03:13:51.122764Z",
     "shell.execute_reply": "2024-12-16T03:13:51.121835Z"
    },
    "papermill": {
     "duration": 0.029796,
     "end_time": "2024-12-16T03:13:51.124556",
     "exception": false,
     "start_time": "2024-12-16T03:13:51.094760",
     "status": "completed"
    },
    "tags": []
   },
   "outputs": [
    {
     "data": {
      "text/plain": [
       "LSTM(\n",
       "  (lstm): LSTM(1, 150, batch_first=True)\n",
       "  (linear): Linear(in_features=150, out_features=1, bias=True)\n",
       ")"
      ]
     },
     "execution_count": 38,
     "metadata": {},
     "output_type": "execute_result"
    }
   ],
   "source": [
    "model.apply(init_weights)"
   ]
  },
  {
   "cell_type": "code",
   "execution_count": 39,
   "id": "c220f294",
   "metadata": {
    "execution": {
     "iopub.execute_input": "2024-12-16T03:13:51.166084Z",
     "iopub.status.busy": "2024-12-16T03:13:51.165691Z",
     "iopub.status.idle": "2024-12-16T03:15:16.378908Z",
     "shell.execute_reply": "2024-12-16T03:15:16.377469Z"
    },
    "papermill": {
     "duration": 85.236807,
     "end_time": "2024-12-16T03:15:16.381397",
     "exception": false,
     "start_time": "2024-12-16T03:13:51.144590",
     "status": "completed"
    },
    "tags": []
   },
   "outputs": [
    {
     "name": "stdout",
     "output_type": "stream",
     "text": [
      "Epoch 1 -> Loss: 0.14320059157828588\n",
      "Epoch 2 -> Loss: 0.024865446476509203\n",
      "Epoch 3 -> Loss: 0.012555189360930606\n",
      "Epoch 4 -> Loss: 0.00835224178147407\n",
      "Epoch 5 -> Loss: 0.006896023116364218\n",
      "Epoch 6 -> Loss: 0.005825404424066702\n",
      "Epoch 7 -> Loss: 0.005248936396434477\n",
      "Epoch 8 -> Loss: 0.004714659325294302\n",
      "Epoch 9 -> Loss: 0.0041182180491060455\n",
      "Epoch 10 -> Loss: 0.0037288215434686705\n",
      "Epoch 11 -> Loss: 0.003527568988482182\n",
      "Epoch 12 -> Loss: 0.003432557858600789\n",
      "Epoch 13 -> Loss: 0.003410417248067626\n",
      "Epoch 14 -> Loss: 0.0034393720503761538\n",
      "Epoch 15 -> Loss: 0.0035021052318453174\n",
      "Epoch 16 -> Loss: 0.003582643120766575\n",
      "Epoch 17 -> Loss: 0.0036655978435605487\n",
      "Epoch 18 -> Loss: 0.003737301629239069\n",
      "Epoch 19 -> Loss: 0.0037816078392180234\n",
      "Epoch 20 -> Loss: 0.0037960958891000533\n",
      "Epoch 21 -> Loss: 0.004239339556848294\n",
      "Epoch 22 -> Loss: 0.0028717298027913785\n",
      "Epoch 23 -> Loss: 0.0022136015171285678\n",
      "Epoch 24 -> Loss: 0.002269674526236155\n",
      "Epoch 25 -> Loss: 0.0022850349592111094\n",
      "Epoch 26 -> Loss: 0.002301589341302381\n",
      "Epoch 27 -> Loss: 0.002317060484876327\n",
      "Epoch 28 -> Loss: 0.002330440254643856\n",
      "Epoch 29 -> Loss: 0.002341474451730557\n",
      "Epoch 30 -> Loss: 0.002350212517558248\n",
      "Epoch 31 -> Loss: 0.002356846305933273\n",
      "Epoch 32 -> Loss: 0.0023616141888024604\n",
      "Epoch 33 -> Loss: 0.0023647507341758517\n",
      "Epoch 34 -> Loss: 0.00236646317647352\n",
      "Epoch 35 -> Loss: 0.002366924109512845\n",
      "Epoch 36 -> Loss: 0.002366275147671166\n",
      "Epoch 37 -> Loss: 0.0023646326711142056\n",
      "Epoch 38 -> Loss: 0.002362090563143614\n",
      "Epoch 39 -> Loss: 0.0023587279194047864\n",
      "Epoch 40 -> Loss: 0.002354617305569594\n",
      "Epoch 41 -> Loss: 0.0024190958928350234\n",
      "Epoch 42 -> Loss: 0.0021144924731991274\n",
      "Epoch 43 -> Loss: 0.002047728910011673\n",
      "Epoch 44 -> Loss: 0.002057118355250251\n",
      "Epoch 45 -> Loss: 0.002050251454106315\n",
      "Epoch 46 -> Loss: 0.002051324393935581\n",
      "Epoch 47 -> Loss: 0.0020489288474147375\n",
      "Epoch 48 -> Loss: 0.002047624524592803\n",
      "Epoch 49 -> Loss: 0.0020455247670807613\n",
      "Epoch 50 -> Loss: 0.002043376750275043\n",
      "Epoch 51 -> Loss: 0.0020409013184524323\n",
      "Epoch 52 -> Loss: 0.002038223034535556\n",
      "Epoch 53 -> Loss: 0.0020353205743958826\n",
      "Epoch 54 -> Loss: 0.0020322268640566936\n",
      "Epoch 55 -> Loss: 0.0020289552503031287\n",
      "Epoch 56 -> Loss: 0.0020255266703646736\n",
      "Epoch 57 -> Loss: 0.0020219577789909885\n",
      "Epoch 58 -> Loss: 0.0020182649289298836\n",
      "Epoch 59 -> Loss: 0.002014463513610694\n",
      "Epoch 60 -> Loss: 0.002010567061138731\n",
      "Epoch 61 -> Loss: 0.0020066992100634127\n",
      "Epoch 62 -> Loss: 0.0019356403809069889\n",
      "Epoch 63 -> Loss: 0.0019286276168713813\n",
      "Epoch 64 -> Loss: 0.0019234029265961991\n",
      "Epoch 65 -> Loss: 0.001921816172084205\n",
      "Epoch 66 -> Loss: 0.001919520273019192\n",
      "Epoch 67 -> Loss: 0.001917820900408432\n",
      "Epoch 68 -> Loss: 0.001915869496869246\n",
      "Epoch 69 -> Loss: 0.0019140126554372148\n",
      "Epoch 70 -> Loss: 0.001912067768907119\n",
      "Epoch 71 -> Loss: 0.001910121650135724\n",
      "Epoch 72 -> Loss: 0.0019081339257023832\n",
      "Epoch 73 -> Loss: 0.0019061266453718416\n",
      "Epoch 74 -> Loss: 0.0019040930602469332\n",
      "Epoch 75 -> Loss: 0.0019020398750481862\n",
      "Epoch 76 -> Loss: 0.001899966534719252\n",
      "Epoch 77 -> Loss: 0.0018978769237368066\n",
      "Epoch 78 -> Loss: 0.0018957717878038238\n",
      "Epoch 79 -> Loss: 0.0018936530670378654\n",
      "Epoch 80 -> Loss: 0.0018915234193462476\n",
      "Epoch 81 -> Loss: 0.0018808424116286914\n",
      "Epoch 82 -> Loss: 0.0018665921878643777\n",
      "Epoch 83 -> Loss: 0.001861452605283954\n",
      "Epoch 84 -> Loss: 0.001859837441845064\n",
      "Epoch 85 -> Loss: 0.001858252197226565\n",
      "Epoch 86 -> Loss: 0.0018569790623670004\n",
      "Epoch 87 -> Loss: 0.0018558019786806572\n",
      "Epoch 88 -> Loss: 0.001854685033148681\n",
      "Epoch 89 -> Loss: 0.0018535955770361894\n",
      "Epoch 90 -> Loss: 0.0018525200102637676\n",
      "Epoch 91 -> Loss: 0.0018514499725576818\n",
      "Epoch 92 -> Loss: 0.001850381953805812\n",
      "Epoch 93 -> Loss: 0.0018493133545648148\n",
      "Epoch 94 -> Loss: 0.0018482433776129752\n",
      "Epoch 95 -> Loss: 0.001847172395851389\n",
      "Epoch 96 -> Loss: 0.0018460992712127997\n",
      "Epoch 97 -> Loss: 0.0018450249862326019\n",
      "Epoch 98 -> Loss: 0.0018439493414172665\n",
      "Epoch 99 -> Loss: 0.001842871682468037\n",
      "Epoch 100 -> Loss: 0.0018417936136756908\n",
      "Total time elapsed in LSTM model retraining: 1.4200425028800965 minutes.\n"
     ]
    }
   ],
   "source": [
    "epochs = 100\n",
    "\n",
    "y_norm = scaler.transform(y.reshape(-1,1))\n",
    "all_data = TimeSeriesDataset(sequence_data=y_norm,sequence_length=10)\n",
    "all_data_loader = DataLoader(dataset=all_data,batch_size=10,shuffle=False,num_workers=5)\n",
    "\n",
    "model.train()\n",
    "\n",
    "losses = []\n",
    "\n",
    "start_time = time.time()\n",
    "\n",
    "for i in range(1,epochs+1):\n",
    "\n",
    "    epoch_loss = 0\n",
    "    \n",
    "    for seq, y_train in all_data_loader:\n",
    "        optimizer.zero_grad()\n",
    "        y_pred = model(seq)\n",
    "        loss = criterion(y_pred,y_train)\n",
    "        loss.backward()\n",
    "        clip_grad_norm_(parameters=model.parameters(),max_norm=1.0) # Gradient clipping\n",
    "        optimizer.step()\n",
    "        epoch_loss += loss.item()\n",
    "\n",
    "    epoch_loss /= len(all_data_loader)\n",
    "    scheduler.step() # Adjust learning rate\n",
    "    losses.append(epoch_loss)\n",
    "    print(f\"Epoch {i} -> Loss: {epoch_loss}\")\n",
    "\n",
    "print(f\"Total time elapsed in LSTM model retraining: {(time.time()-start_time)/60} minutes.\")"
   ]
  },
  {
   "cell_type": "code",
   "execution_count": 40,
   "id": "984a123c",
   "metadata": {
    "execution": {
     "iopub.execute_input": "2024-12-16T03:15:16.489575Z",
     "iopub.status.busy": "2024-12-16T03:15:16.489119Z",
     "iopub.status.idle": "2024-12-16T03:15:16.779427Z",
     "shell.execute_reply": "2024-12-16T03:15:16.778302Z"
    },
    "papermill": {
     "duration": 0.37463,
     "end_time": "2024-12-16T03:15:16.781357",
     "exception": false,
     "start_time": "2024-12-16T03:15:16.406727",
     "status": "completed"
    },
    "tags": []
   },
   "outputs": [
    {
     "data": {
      "image/png": "[encoded data removed]",
      "text/plain": [
       "<Figure size 640x480 with 1 Axes>"
      ]
     },
     "metadata": {},
     "output_type": "display_data"
    }
   ],
   "source": [
    "plt.plot(range(1,epochs+1),losses)\n",
    "plt.xlabel('Epoch')\n",
    "plt.ylabel('MSE Loss')\n",
    "plt.title('Loss Graph')\n",
    "plt.show();"
   ]
  },
  {
   "cell_type": "markdown",
   "id": "5e213296",
   "metadata": {
    "papermill": {
     "duration": 0.024331,
     "end_time": "2024-12-16T03:15:16.830274",
     "exception": false,
     "start_time": "2024-12-16T03:15:16.805943",
     "status": "completed"
    },
    "tags": []
   },
   "source": [
    "## Forecasting into unknown future"
   ]
  },
  {
   "cell_type": "code",
   "execution_count": 41,
   "id": "26be7281",
   "metadata": {
    "execution": {
     "iopub.execute_input": "2024-12-16T03:15:16.881456Z",
     "iopub.status.busy": "2024-12-16T03:15:16.881036Z",
     "iopub.status.idle": "2024-12-16T03:15:16.976893Z",
     "shell.execute_reply": "2024-12-16T03:15:16.976002Z"
    },
    "papermill": {
     "duration": 0.124336,
     "end_time": "2024-12-16T03:15:16.979242",
     "exception": false,
     "start_time": "2024-12-16T03:15:16.854906",
     "status": "completed"
    },
    "tags": []
   },
   "outputs": [],
   "source": [
    "forecast_horizon = 120\n",
    "sequence_length = 20\n",
    "predictions = y_norm[-sequence_length:].flatten().tolist()\n",
    "\n",
    "model.eval()\n",
    "\n",
    "for i in range(forecast_horizon):\n",
    "    sequence = torch.FloatTensor(predictions[-sequence_length:]).view(1, sequence_length, 1)\n",
    "\n",
    "    with torch.no_grad():\n",
    "        predictions.append(model(sequence).item())"
   ]
  },
  {
   "cell_type": "code",
   "execution_count": 42,
   "id": "f05fb4c7",
   "metadata": {
    "execution": {
     "iopub.execute_input": "2024-12-16T03:15:17.030384Z",
     "iopub.status.busy": "2024-12-16T03:15:17.029974Z",
     "iopub.status.idle": "2024-12-16T03:15:17.036305Z",
     "shell.execute_reply": "2024-12-16T03:15:17.035391Z"
    },
    "papermill": {
     "duration": 0.033923,
     "end_time": "2024-12-16T03:15:17.038291",
     "exception": false,
     "start_time": "2024-12-16T03:15:17.004368",
     "status": "completed"
    },
    "tags": []
   },
   "outputs": [
    {
     "data": {
      "text/plain": [
       "140"
      ]
     },
     "execution_count": 42,
     "metadata": {},
     "output_type": "execute_result"
    }
   ],
   "source": [
    "len(predictions)"
   ]
  },
  {
   "cell_type": "code",
   "execution_count": 43,
   "id": "dff9eb8d",
   "metadata": {
    "execution": {
     "iopub.execute_input": "2024-12-16T03:15:17.089731Z",
     "iopub.status.busy": "2024-12-16T03:15:17.089313Z",
     "iopub.status.idle": "2024-12-16T03:15:17.095681Z",
     "shell.execute_reply": "2024-12-16T03:15:17.094726Z"
    },
    "papermill": {
     "duration": 0.035099,
     "end_time": "2024-12-16T03:15:17.097966",
     "exception": false,
     "start_time": "2024-12-16T03:15:17.062867",
     "status": "completed"
    },
    "tags": []
   },
   "outputs": [
    {
     "data": {
      "text/plain": [
       "[2.76037859916687,\n",
       " 2.7605721950531006,\n",
       " 2.760755777359009,\n",
       " 2.7609293460845947,\n",
       " 2.7610933780670166]"
      ]
     },
     "execution_count": 43,
     "metadata": {},
     "output_type": "execute_result"
    }
   ],
   "source": [
    "predictions[-sequence_length:][:5]"
   ]
  },
  {
   "cell_type": "code",
   "execution_count": 44,
   "id": "e209e485",
   "metadata": {
    "execution": {
     "iopub.execute_input": "2024-12-16T03:15:17.150395Z",
     "iopub.status.busy": "2024-12-16T03:15:17.149944Z",
     "iopub.status.idle": "2024-12-16T03:15:17.158316Z",
     "shell.execute_reply": "2024-12-16T03:15:17.157258Z"
    },
    "papermill": {
     "duration": 0.037583,
     "end_time": "2024-12-16T03:15:17.160266",
     "exception": false,
     "start_time": "2024-12-16T03:15:17.122683",
     "status": "completed"
    },
    "tags": []
   },
   "outputs": [
    {
     "data": {
      "text/plain": [
       "array([[200.39],\n",
       "       [207.82],\n",
       "       [206.19],\n",
       "       [215.81],\n",
       "       [219.66]])"
      ]
     },
     "execution_count": 44,
     "metadata": {},
     "output_type": "execute_result"
    }
   ],
   "source": [
    "true_predictions = scaler.inverse_transform(np.array(predictions).reshape(-1,1))\n",
    "true_predictions[:5]"
   ]
  },
  {
   "cell_type": "code",
   "execution_count": 45,
   "id": "4c9f1897",
   "metadata": {
    "execution": {
     "iopub.execute_input": "2024-12-16T03:15:17.211622Z",
     "iopub.status.busy": "2024-12-16T03:15:17.211236Z",
     "iopub.status.idle": "2024-12-16T03:15:17.219529Z",
     "shell.execute_reply": "2024-12-16T03:15:17.218430Z"
    },
    "papermill": {
     "duration": 0.035869,
     "end_time": "2024-12-16T03:15:17.221412",
     "exception": false,
     "start_time": "2024-12-16T03:15:17.185543",
     "status": "completed"
    },
    "tags": []
   },
   "outputs": [
    {
     "data": {
      "text/plain": [
       "array([[89.19],\n",
       "       [86.  ],\n",
       "       [91.12],\n",
       "       [96.12],\n",
       "       [93.87]])"
      ]
     },
     "execution_count": 45,
     "metadata": {},
     "output_type": "execute_result"
    }
   ],
   "source": [
    "actual_values = scaler.inverse_transform(np.array(y_norm).reshape(-1,1))\n",
    "actual_values[:5]"
   ]
  },
  {
   "cell_type": "code",
   "execution_count": 46,
   "id": "e5a97545",
   "metadata": {
    "execution": {
     "iopub.execute_input": "2024-12-16T03:15:17.273263Z",
     "iopub.status.busy": "2024-12-16T03:15:17.272911Z",
     "iopub.status.idle": "2024-12-16T03:15:17.288141Z",
     "shell.execute_reply": "2024-12-16T03:15:17.287112Z"
    },
    "papermill": {
     "duration": 0.043395,
     "end_time": "2024-12-16T03:15:17.290362",
     "exception": false,
     "start_time": "2024-12-16T03:15:17.246967",
     "status": "completed"
    },
    "tags": []
   },
   "outputs": [
    {
     "data": {
      "text/plain": [
       "DatetimeIndex(['1999-11-12', '1999-11-19', '1999-11-26', '1999-12-03',\n",
       "               '1999-12-10', '1999-12-17', '1999-12-23', '1999-12-31',\n",
       "               '2000-01-07', '2000-01-14',\n",
       "               ...\n",
       "               '2020-11-27', '2020-12-04', '2020-12-11', '2020-12-18',\n",
       "               '2020-12-24', '2020-12-31', '2021-01-08', '2021-01-15',\n",
       "               '2021-01-22', '2021-01-29'],\n",
       "              dtype='datetime64[ns]', length=1108, freq=None)"
      ]
     },
     "execution_count": 46,
     "metadata": {},
     "output_type": "execute_result"
    }
   ],
   "source": [
    "df.index = pd.to_datetime(df.index)\n",
    "df.index"
   ]
  },
  {
   "cell_type": "code",
   "execution_count": 47,
   "id": "94e36a0f",
   "metadata": {
    "execution": {
     "iopub.execute_input": "2024-12-16T03:15:17.343054Z",
     "iopub.status.busy": "2024-12-16T03:15:17.342662Z",
     "iopub.status.idle": "2024-12-16T03:15:17.353148Z",
     "shell.execute_reply": "2024-12-16T03:15:17.352053Z"
    },
    "papermill": {
     "duration": 0.039079,
     "end_time": "2024-12-16T03:15:17.355288",
     "exception": false,
     "start_time": "2024-12-16T03:15:17.316209",
     "status": "completed"
    },
    "tags": []
   },
   "outputs": [
    {
     "data": {
      "text/plain": [
       "DatetimeIndex(['2021-02-07', '2021-02-14', '2021-02-21', '2021-02-28',\n",
       "               '2021-03-07', '2021-03-14', '2021-03-21', '2021-03-28',\n",
       "               '2021-04-04', '2021-04-11',\n",
       "               ...\n",
       "               '2023-03-19', '2023-03-26', '2023-04-02', '2023-04-09',\n",
       "               '2023-04-16', '2023-04-23', '2023-04-30', '2023-05-07',\n",
       "               '2023-05-14', '2023-05-21'],\n",
       "              dtype='datetime64[ns]', length=120, freq='W-SUN')"
      ]
     },
     "execution_count": 47,
     "metadata": {},
     "output_type": "execute_result"
    }
   ],
   "source": [
    "future_dates = pd.date_range(start=df.index[-1]+pd.Timedelta(weeks=1),\n",
    "                             periods=forecast_horizon,\n",
    "                             freq='W')\n",
    "future_dates"
   ]
  },
  {
   "cell_type": "code",
   "execution_count": 48,
   "id": "879f233f",
   "metadata": {
    "execution": {
     "iopub.execute_input": "2024-12-16T03:15:17.408158Z",
     "iopub.status.busy": "2024-12-16T03:15:17.407505Z",
     "iopub.status.idle": "2024-12-16T03:15:17.414156Z",
     "shell.execute_reply": "2024-12-16T03:15:17.413125Z"
    },
    "papermill": {
     "duration": 0.03576,
     "end_time": "2024-12-16T03:15:17.416181",
     "exception": false,
     "start_time": "2024-12-16T03:15:17.380421",
     "status": "completed"
    },
    "tags": []
   },
   "outputs": [
    {
     "data": {
      "text/plain": [
       "(120, 120)"
      ]
     },
     "execution_count": 48,
     "metadata": {},
     "output_type": "execute_result"
    }
   ],
   "source": [
    "len(future_dates), len(true_predictions[sequence_length:])"
   ]
  },
  {
   "cell_type": "code",
   "execution_count": 49,
   "id": "4a5af62a",
   "metadata": {
    "execution": {
     "iopub.execute_input": "2024-12-16T03:15:17.468310Z",
     "iopub.status.busy": "2024-12-16T03:15:17.467927Z",
     "iopub.status.idle": "2024-12-16T03:15:17.766170Z",
     "shell.execute_reply": "2024-12-16T03:15:17.764958Z"
    },
    "papermill": {
     "duration": 0.327522,
     "end_time": "2024-12-16T03:15:17.768810",
     "exception": false,
     "start_time": "2024-12-16T03:15:17.441288",
     "status": "completed"
    },
    "tags": []
   },
   "outputs": [
    {
     "data": {
      "image/png": "[encoded data removed]",
      "text/plain": [
       "<Figure size 1000x500 with 1 Axes>"
      ]
     },
     "metadata": {},
     "output_type": "display_data"
    }
   ],
   "source": [
    "fig = plt.figure(figsize=(10,5))\n",
    "plt.title('Global Equity Forecast')\n",
    "plt.ylabel('Global Equity')\n",
    "plt.grid(visible=True)\n",
    "plt.autoscale(enable=True,axis='x',tight=True)\n",
    "plt.plot(df.index,actual_values)\n",
    "plt.plot(future_dates,true_predictions[sequence_length:])\n",
    "plt.show();"
   ]
  },
  {
   "cell_type": "markdown",
   "id": "d079af44",
   "metadata": {
    "papermill": {
     "duration": 0.025536,
     "end_time": "2024-12-16T03:15:17.820481",
     "exception": false,
     "start_time": "2024-12-16T03:15:17.794945",
     "status": "completed"
    },
    "tags": []
   },
   "source": [
    "## Saving the model for future use"
   ]
  },
  {
   "cell_type": "code",
   "execution_count": 50,
   "id": "bead867b",
   "metadata": {
    "execution": {
     "iopub.execute_input": "2024-12-16T03:15:17.874237Z",
     "iopub.status.busy": "2024-12-16T03:15:17.873864Z",
     "iopub.status.idle": "2024-12-16T03:15:17.880897Z",
     "shell.execute_reply": "2024-12-16T03:15:17.879950Z"
    },
    "papermill": {
     "duration": 0.03672,
     "end_time": "2024-12-16T03:15:17.882966",
     "exception": false,
     "start_time": "2024-12-16T03:15:17.846246",
     "status": "completed"
    },
    "tags": []
   },
   "outputs": [],
   "source": [
    "torch.save(model,'global_equity_forecaster.pt')"
   ]
  },
  {
   "cell_type": "markdown",
   "id": "3b65c85d",
   "metadata": {
    "papermill": {
     "duration": 0.025992,
     "end_time": "2024-12-16T03:15:17.936737",
     "exception": false,
     "start_time": "2024-12-16T03:15:17.910745",
     "status": "completed"
    },
    "tags": []
   },
   "source": [
    "This is a relatively decent forecast considering the simplicity of the LSTM model. Please upvote my notebook if you really liked my work. In case you have any suggestions regarding my work, you can let me know through the comments section below."
   ]
  }
 ],
 "metadata": {
  "kaggle": {
   "accelerator": "none",
   "dataSources": [
    {
     "datasetId": 1128031,
     "sourceId": 1893186,
     "sourceType": "datasetVersion"
    }
   ],
   "dockerImageVersionId": 30804,
   "isGpuEnabled": false,
   "isInternetEnabled": true,
   "language": "python",
   "sourceType": "notebook"
  },
  "kernelspec": {
   "display_name": "Python 3",
   "language": "python",
   "name": "python3"
  },
  "language_info": {
   "codemirror_mode": {
    "name": "ipython",
    "version": 3
   },
   "file_extension": ".py",
   "mimetype": "text/x-python",
   "name": "python",
   "nbconvert_exporter": "python",
   "pygments_lexer": "ipython3",
   "version": "3.10.14"
  },
  "papermill": {
   "default_parameters": {},
   "duration": 142.546245,
   "end_time": "2024-12-16T03:15:20.318072",
   "environment_variables": {},
   "exception": null,
   "input_path": "__notebook__.ipynb",
   "output_path": "__notebook__.ipynb",
   "parameters": {},
   "start_time": "2024-12-16T03:12:57.771827",
   "version": "2.6.0"
  }
 },
 "nbformat": 4,
 "nbformat_minor": 5
}
